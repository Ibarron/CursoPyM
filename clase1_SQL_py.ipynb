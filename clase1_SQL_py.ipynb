{
 "cells": [
  {
   "cell_type": "code",
   "execution_count": 1,
   "metadata": {},
   "outputs": [
    {
     "name": "stdout",
     "output_type": "stream",
     "text": [
      "Hellow world\n"
     ]
    }
   ],
   "source": [
    "print('Hellow world')\n",
    "\n",
    "\n",
    "\"\"\"\n",
    "- and(&): Nos regresará True siempre que las componentes\n",
    "      involucradas sean todas verdaderas (&)\n",
    "-or (|): Nos regresará True siempre que en las componentes\n",
    "      haya al menos un True (|)\n",
    "-not (!): True-->False, False-->True (not)\n",
    "\"\"\"\n",
    "\n",
    "print(\"Tabla de verdad del operador AND\")\n",
    "print(\"True and True =\", True & True)\n",
    "print(\"True and False =\", True & False)\n",
    "print(\"False and True =\", False & True)\n",
    "print(\"False and False =\", False & False)\n",
    "print(\"-\" * 40)\n",
    "print(\"Tabla de verdad del operador OR\")\n",
    "print(\"True or True =\", True | True)\n",
    "print(\"True or False =\", True | False)\n",
    "print(\"False or True =\", False | True)\n",
    "print(\"False or False =\", False | False)\n",
    "\n",
    "# False | False ---> False\n",
    "# not (False | False) ---> True\n",
    "# True & True--->True\n",
    "True & ( not (False | False) )"
   ]
  }
 ],
 "metadata": {
  "kernelspec": {
   "display_name": "Python 3",
   "language": "python",
   "name": "python3"
  },
  "language_info": {
   "codemirror_mode": {
    "name": "ipython",
    "version": 3
   },
   "file_extension": ".py",
   "mimetype": "text/x-python",
   "name": "python",
   "nbconvert_exporter": "python",
   "pygments_lexer": "ipython3",
   "version": "3.10.4"
  },
  "orig_nbformat": 4
 },
 "nbformat": 4,
 "nbformat_minor": 2
}
